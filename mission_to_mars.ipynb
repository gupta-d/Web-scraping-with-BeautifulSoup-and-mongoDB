{
 "cells": [
  {
   "cell_type": "code",
   "execution_count": 1,
   "metadata": {},
   "outputs": [],
   "source": [
    "from IPython.core.interactiveshell import InteractiveShell\n",
    "InteractiveShell.ast_node_interactivity = \"all\""
   ]
  },
  {
   "cell_type": "code",
   "execution_count": 2,
   "metadata": {},
   "outputs": [],
   "source": [
    "import requests\n",
    "from bs4 import BeautifulSoup\n",
    "import pandas as pd\n",
    "from splinter import Browser\n"
   ]
  },
  {
   "cell_type": "code",
   "execution_count": 3,
   "metadata": {},
   "outputs": [],
   "source": [
    "def scrapping():\n",
    "\timport requests\n",
    "\tfrom bs4 import BeautifulSoup\n",
    "\timport pandas as pd\n",
    "\tfrom splinter import Browser\n",
    "\n",
    "\t## (1) Scrape Latest Mars News \n",
    "\turl = \"https://mars.nasa.gov/news/\"\n",
    "\tbrowser = Browser(\"chrome\")\n",
    "\tbrowser.visit(url)\n",
    "\thtml = browser.html\n",
    "\tsoup = BeautifulSoup(html, \"html.parser\")\n",
    "\tnews = soup.find(\"div\", class_=\"list_text\")\n",
    "\ttitle = news.find(\"div\", class_=\"content_title\")\n",
    "\tpara = soup.find(\"div\", class_=\"article_teaser_body\")\n",
    "\tnews.text\n",
    "\tnews_title =title.text\n",
    "\tnews_p = para.text\n",
    "\n",
    "\t## (2)Scrape Mars featured space image\n",
    "\turl = 'https://www.jpl.nasa.gov/spaceimages/?search=&category=Mars'\n",
    "\tresponse = requests.get (url)\n",
    "\tsoup = BeautifulSoup(response.text, 'html.parser')\n",
    "\n",
    "\t# get a list of all images under tag 'li' and class 'slide'\n",
    "\tlist_items = soup.find_all(\"li\", class_=\"slide\")\n",
    "\t#list_items[0]\n",
    "\t#get first element of the list, get tag 'a' and get attribute 'data-fancybox-href' which contains the full size image\n",
    "\tpartial_url = list_items[0].a['data-fancybox-href']\n",
    "\t#print(partial_url)\n",
    "\tfeatured_image_url = \"https://jpl.nasa.gov\" + partial_url\n",
    "\t#print(f\"full image url is {featured_image_url}\")\n",
    "\n",
    "\t## (3) Colect Mars weather info \n",
    "\turl = 'https://twitter.com/marswxreport?lang=en'\n",
    "\tresponse = requests.get (url)\n",
    "\tsoup = BeautifulSoup(response.text, 'html.parser')\n",
    "\n",
    "\tresult = soup.find('p', class_ = \"TweetTextSize TweetTextSize--normal js-tweet-text tweet-text\")\n",
    "\t# check multiple type of outputs from result\n",
    "\t# result\n",
    "\t# result.text\n",
    "\t# result.contents\n",
    "\t# result.contents[0]\n",
    "\t#replace newline character \\n with space\n",
    "\tresult.contents[0].replace(\"\\n\", \" \")\n",
    "\t#save above \n",
    "\tmars_weather = result.contents[0].replace(\"\\n\", \" \")\n",
    "\n",
    "\t## (4) Scrape table from space-facts directly to pandas\n",
    "\turl = \"https://space-facts.com/mars/\"\n",
    "\n",
    "\ttable =pd.read_html(url)\n",
    "\t# table\n",
    "\t# table[0]\n",
    "\tdf_table = table[0]\n",
    "\tdf_table.columns = ['Mars_Particular', 'Values']\n",
    "\tdf_table.set_index('Mars_Particular', inplace = True)\n",
    "\t# df_table\n",
    "\thtml_table = df_table.to_html(header = False)\n",
    "\t# html_table\n",
    "\n",
    "\t# (5) Scrape Mars hemisphere images\n",
    "\t# url = 'https://astrogeology.usgs.gov/search/results?q=hemisphere+enhanced&k1=target&v1=Mars'\n",
    "\t# response = requests.get(url).text\n",
    "\t# # get a list of items available\n",
    "\t# soup = BeautifulSoup(response, 'html.parser')\n",
    "\t# list_images = soup.find_all('div', class_=\"item\")\n",
    "\t# # print(list_images[0].prettify())\n",
    "\n",
    "\n",
    "\tbrowser = Browser(\"chrome\")\n",
    "\n",
    "\turl = 'https://astrogeology.usgs.gov/search/results?q=hemisphere+enhanced&k1=target&v1=Mars'\n",
    "\tbrowser.visit(url)\n",
    "\n",
    "\timg_list=[]\n",
    "\tfor i in range (4):\n",
    "\n",
    "\t    images = browser.find_by_tag('h3')\n",
    "\t    images[i].click()\n",
    "\t    html = browser.html\n",
    "\t    soup = BeautifulSoup(html, 'html.parser')\n",
    "\t    partial = soup.find(\"img\", class_=\"wide-image\")[\"src\"]\n",
    "\t    img_title = soup.find(\"h2\",class_=\"title\").text.split('Enhanced')[0]\n",
    "\t    img_url = 'https://astrogeology.usgs.gov'+ partial\n",
    "\t    dict={\"img_title\":img_title,\"img_url\":img_url}\n",
    "\t    img_list.append(dict)\n",
    "\t    browser.back()\n",
    "\n",
    "\t# print(img_list)\n",
    "\tscrape = {'news_title':news_title, 'news_p':news_p, 'featured_image_url':featured_image_url, 'mars_weather': mars_weather, 'html_table': html_table, 'img_list':img_list}\n",
    "\n",
    "# \tprint(\"we have img_list(list of dict with hemis name and images\")\n",
    "# \tprint(\"we have 'html_table' - html file with mars stats\")\n",
    "# \tprint (\"we have 'mars_weather' a string containing latest weather tweet\")\n",
    "# \tprint (\"we have 'featured_image_url' - string containing featured image url\")\n",
    "# \tprint(\"we have 'news_title' and 'news_p' strings of latest news from Nasa mars page\")\n",
    "# \tprint(scrape)\n",
    "\treturn(scrape)\n"
   ]
  },
  {
   "cell_type": "code",
   "execution_count": 57,
   "metadata": {},
   "outputs": [
    {
     "data": {
      "text/plain": [
       "\"May 15, 2019NASA's MRO Completes 60,000 Trips Around MarsThe orbiting spacecraft is also about to set a record for data relayed from the Martian surface.\""
      ]
     },
     "execution_count": 57,
     "metadata": {},
     "output_type": "execute_result"
    },
    {
     "data": {
      "text/plain": [
       "\"NASA's MRO Completes 60,000 Trips Around Mars\""
      ]
     },
     "execution_count": 57,
     "metadata": {},
     "output_type": "execute_result"
    },
    {
     "data": {
      "text/plain": [
       "'The orbiting spacecraft is also about to set a record for data relayed from the Martian surface.'"
      ]
     },
     "execution_count": 57,
     "metadata": {},
     "output_type": "execute_result"
    }
   ],
   "source": []
  },
  {
   "cell_type": "code",
   "execution_count": 4,
   "metadata": {},
   "outputs": [
    {
     "name": "stdout",
     "output_type": "stream",
     "text": [
      "we have img_list(list of dict with hemis name and images\n",
      "we have 'html_table' - html file with mars stats\n",
      "we have 'mars_weather' a string containing latest weather tweet\n",
      "we have 'featured_image_url' - string containing featured image url\n",
      "we have 'news_title' and 'news_p' strings of latest news from Nasa mars page\n",
      "{'news_title': \"NASA's Curiosity Mars Rover Finds a Clay Cache\", 'news_p': 'The rover recently drilled two samples, and both showed the highest levels of clay ever found during the mission.', 'featured_image_url': 'https://jpl.nasa.gov/spaceimages/images/largesize/PIA23243_hires.jpg', 'mars_weather': 'InSight sol 178 (2019-05-28) low -101.1ºC (-150.0ºF) high -23.0ºC (-9.5ºF) winds from the SW at 4.8 m/s (10.8 mph) gusting to 15.0 m/s (33.5 mph) pressure at 7.50 hPa', 'html_table': '<table border=\"1\" class=\"dataframe\">\\n  <thead>\\n    <tr>\\n      <th>Mars_Particular</th>\\n      <th></th>\\n    </tr>\\n  </thead>\\n  <tbody>\\n    <tr>\\n      <th>Equatorial Diameter:</th>\\n      <td>6,792 km</td>\\n    </tr>\\n    <tr>\\n      <th>Polar Diameter:</th>\\n      <td>6,752 km</td>\\n    </tr>\\n    <tr>\\n      <th>Mass:</th>\\n      <td>6.42 x 10^23 kg (10.7% Earth)</td>\\n    </tr>\\n    <tr>\\n      <th>Moons:</th>\\n      <td>2 (Phobos &amp; Deimos)</td>\\n    </tr>\\n    <tr>\\n      <th>Orbit Distance:</th>\\n      <td>227,943,824 km (1.52 AU)</td>\\n    </tr>\\n    <tr>\\n      <th>Orbit Period:</th>\\n      <td>687 days (1.9 years)</td>\\n    </tr>\\n    <tr>\\n      <th>Surface Temperature:</th>\\n      <td>-153 to 20 °C</td>\\n    </tr>\\n    <tr>\\n      <th>First Record:</th>\\n      <td>2nd millennium BC</td>\\n    </tr>\\n    <tr>\\n      <th>Recorded By:</th>\\n      <td>Egyptian astronomers</td>\\n    </tr>\\n  </tbody>\\n</table>', 'img_list': [{'img_title': 'Cerberus Hemisphere ', 'img_url': 'https://astrogeology.usgs.gov/cache/images/cfa62af2557222a02478f1fcd781d445_cerberus_enhanced.tif_full.jpg'}, {'img_title': 'Schiaparelli Hemisphere ', 'img_url': 'https://astrogeology.usgs.gov/cache/images/3cdd1cbf5e0813bba925c9030d13b62e_schiaparelli_enhanced.tif_full.jpg'}, {'img_title': 'Syrtis Major Hemisphere ', 'img_url': 'https://astrogeology.usgs.gov/cache/images/ae209b4e408bb6c3e67b6af38168cf28_syrtis_major_enhanced.tif_full.jpg'}, {'img_title': 'Valles Marineris Hemisphere ', 'img_url': 'https://astrogeology.usgs.gov/cache/images/7cf2da4bf549ed01c17f206327be4db7_valles_marineris_enhanced.tif_full.jpg'}]}\n"
     ]
    }
   ],
   "source": [
    "data = scrapping()"
   ]
  },
  {
   "cell_type": "markdown",
   "metadata": {},
   "source": [
    "## Below is the code used in flask1_app.py file separately enclosed\n",
    "### This is to create mongoDB database and rung flask app "
   ]
  },
  {
   "cell_type": "code",
   "execution_count": 7,
   "metadata": {},
   "outputs": [
    {
     "name": "stdout",
     "output_type": "stream",
     "text": [
      " * Serving Flask app \"__main__\" (lazy loading)\n",
      " * Environment: production\n",
      "   WARNING: Do not use the development server in a production environment.\n",
      "   Use a production WSGI server instead.\n",
      " * Debug mode: on\n"
     ]
    },
    {
     "name": "stderr",
     "output_type": "stream",
     "text": [
      " * Restarting with stat\n"
     ]
    },
    {
     "ename": "SystemExit",
     "evalue": "1",
     "output_type": "error",
     "traceback": [
      "An exception has occurred, use %tb to see the full traceback.\n",
      "\u001b[1;31mSystemExit\u001b[0m\u001b[1;31m:\u001b[0m 1\n"
     ]
    },
    {
     "name": "stderr",
     "output_type": "stream",
     "text": [
      "C:\\Users\\avise\\Anaconda3\\lib\\site-packages\\IPython\\core\\interactiveshell.py:3275: UserWarning: To exit: use 'exit', 'quit', or Ctrl-D.\n",
      "  warn(\"To exit: use 'exit', 'quit', or Ctrl-D.\", stacklevel=1)\n"
     ]
    }
   ],
   "source": [
    "\n",
    "\n",
    "\n",
    "from pymongo import MongoClient\n",
    "conn = \"mongodb://localhost:27017\"\n",
    "client = MongoClient(conn)\n",
    "db = client.mars_db\n",
    "coll = db.mars_coll\n",
    "\n",
    "\n",
    "\n",
    "#################################################\n",
    "# Flask Setup\n",
    "from flask import Flask, jsonify, render_template\n",
    "app = Flask(__name__)\n",
    "#################################################\n",
    "\n",
    "# Flask Routes\n",
    "#################################################\n",
    "\n",
    "@app.route(\"/scrapper\")\n",
    "def scrapper():\n",
    "\t\n",
    "\tdb.coll.remove()\n",
    "\tdata = scrapping()\n",
    "\tprint('scrapping done..')\n",
    "\tresult = coll.insert_one(data)\n",
    "\n",
    "\treturn render_template(\"index.html\", my_scrape = data) \n",
    "#################################################\n",
    "\n",
    "@app.route(\"/\")\n",
    "def index():\n",
    "\n",
    "    my_search = coll.find_one()\n",
    "\n",
    "    return render_template(\"index.html\", my_scrape=my_search)\n",
    "\n",
    "\n",
    "if __name__ == \"__main__\":\n",
    "    app.run(debug=True)"
   ]
  },
  {
   "cell_type": "code",
   "execution_count": 6,
   "metadata": {},
   "outputs": [
    {
     "ename": "SystemExit",
     "evalue": "1",
     "output_type": "error",
     "traceback": [
      "\u001b[1;31m---------------------------------------------------------------------------\u001b[0m",
      "\u001b[1;31mSystemExit\u001b[0m                                Traceback (most recent call last)",
      "\u001b[1;32m<ipython-input-5-dde459ac2993>\u001b[0m in \u001b[0;36m<module>\u001b[1;34m\u001b[0m\n\u001b[0;32m     28\u001b[0m \u001b[1;33m\u001b[0m\u001b[0m\n\u001b[0;32m     29\u001b[0m \u001b[1;32mif\u001b[0m \u001b[0m__name__\u001b[0m \u001b[1;33m==\u001b[0m \u001b[1;34m\"__main__\"\u001b[0m\u001b[1;33m:\u001b[0m\u001b[1;33m\u001b[0m\u001b[1;33m\u001b[0m\u001b[0m\n\u001b[1;32m---> 30\u001b[1;33m     \u001b[0mapp\u001b[0m\u001b[1;33m.\u001b[0m\u001b[0mrun\u001b[0m\u001b[1;33m(\u001b[0m\u001b[0mdebug\u001b[0m\u001b[1;33m=\u001b[0m\u001b[1;32mTrue\u001b[0m\u001b[1;33m)\u001b[0m\u001b[1;33m\u001b[0m\u001b[1;33m\u001b[0m\u001b[0m\n\u001b[0m",
      "\u001b[1;32m~\\Anaconda3\\lib\\site-packages\\flask\\app.py\u001b[0m in \u001b[0;36mrun\u001b[1;34m(self, host, port, debug, load_dotenv, **options)\u001b[0m\n\u001b[0;32m    941\u001b[0m \u001b[1;33m\u001b[0m\u001b[0m\n\u001b[0;32m    942\u001b[0m         \u001b[1;32mtry\u001b[0m\u001b[1;33m:\u001b[0m\u001b[1;33m\u001b[0m\u001b[1;33m\u001b[0m\u001b[0m\n\u001b[1;32m--> 943\u001b[1;33m             \u001b[0mrun_simple\u001b[0m\u001b[1;33m(\u001b[0m\u001b[0mhost\u001b[0m\u001b[1;33m,\u001b[0m \u001b[0mport\u001b[0m\u001b[1;33m,\u001b[0m \u001b[0mself\u001b[0m\u001b[1;33m,\u001b[0m \u001b[1;33m**\u001b[0m\u001b[0moptions\u001b[0m\u001b[1;33m)\u001b[0m\u001b[1;33m\u001b[0m\u001b[1;33m\u001b[0m\u001b[0m\n\u001b[0m\u001b[0;32m    944\u001b[0m         \u001b[1;32mfinally\u001b[0m\u001b[1;33m:\u001b[0m\u001b[1;33m\u001b[0m\u001b[1;33m\u001b[0m\u001b[0m\n\u001b[0;32m    945\u001b[0m             \u001b[1;31m# reset the first request information if the development server\u001b[0m\u001b[1;33m\u001b[0m\u001b[1;33m\u001b[0m\u001b[1;33m\u001b[0m\u001b[0m\n",
      "\u001b[1;32m~\\Anaconda3\\lib\\site-packages\\werkzeug\\serving.py\u001b[0m in \u001b[0;36mrun_simple\u001b[1;34m(hostname, port, application, use_reloader, use_debugger, use_evalex, extra_files, reloader_interval, reloader_type, threaded, processes, request_handler, static_files, passthrough_errors, ssl_context)\u001b[0m\n\u001b[0;32m    810\u001b[0m         \u001b[1;32mfrom\u001b[0m \u001b[0mwerkzeug\u001b[0m\u001b[1;33m.\u001b[0m\u001b[0m_reloader\u001b[0m \u001b[1;32mimport\u001b[0m \u001b[0mrun_with_reloader\u001b[0m\u001b[1;33m\u001b[0m\u001b[1;33m\u001b[0m\u001b[0m\n\u001b[0;32m    811\u001b[0m         run_with_reloader(inner, extra_files, reloader_interval,\n\u001b[1;32m--> 812\u001b[1;33m                           reloader_type)\n\u001b[0m\u001b[0;32m    813\u001b[0m     \u001b[1;32melse\u001b[0m\u001b[1;33m:\u001b[0m\u001b[1;33m\u001b[0m\u001b[1;33m\u001b[0m\u001b[0m\n\u001b[0;32m    814\u001b[0m         \u001b[0minner\u001b[0m\u001b[1;33m(\u001b[0m\u001b[1;33m)\u001b[0m\u001b[1;33m\u001b[0m\u001b[1;33m\u001b[0m\u001b[0m\n",
      "\u001b[1;32m~\\Anaconda3\\lib\\site-packages\\werkzeug\\_reloader.py\u001b[0m in \u001b[0;36mrun_with_reloader\u001b[1;34m(main_func, extra_files, interval, reloader_type)\u001b[0m\n\u001b[0;32m    273\u001b[0m             \u001b[0mreloader\u001b[0m\u001b[1;33m.\u001b[0m\u001b[0mrun\u001b[0m\u001b[1;33m(\u001b[0m\u001b[1;33m)\u001b[0m\u001b[1;33m\u001b[0m\u001b[1;33m\u001b[0m\u001b[0m\n\u001b[0;32m    274\u001b[0m         \u001b[1;32melse\u001b[0m\u001b[1;33m:\u001b[0m\u001b[1;33m\u001b[0m\u001b[1;33m\u001b[0m\u001b[0m\n\u001b[1;32m--> 275\u001b[1;33m             \u001b[0msys\u001b[0m\u001b[1;33m.\u001b[0m\u001b[0mexit\u001b[0m\u001b[1;33m(\u001b[0m\u001b[0mreloader\u001b[0m\u001b[1;33m.\u001b[0m\u001b[0mrestart_with_reloader\u001b[0m\u001b[1;33m(\u001b[0m\u001b[1;33m)\u001b[0m\u001b[1;33m)\u001b[0m\u001b[1;33m\u001b[0m\u001b[1;33m\u001b[0m\u001b[0m\n\u001b[0m\u001b[0;32m    276\u001b[0m     \u001b[1;32mexcept\u001b[0m \u001b[0mKeyboardInterrupt\u001b[0m\u001b[1;33m:\u001b[0m\u001b[1;33m\u001b[0m\u001b[1;33m\u001b[0m\u001b[0m\n\u001b[0;32m    277\u001b[0m         \u001b[1;32mpass\u001b[0m\u001b[1;33m\u001b[0m\u001b[1;33m\u001b[0m\u001b[0m\n",
      "\u001b[1;31mSystemExit\u001b[0m: 1"
     ]
    }
   ],
   "source": [
    "%tb\n"
   ]
  },
  {
   "cell_type": "code",
   "execution_count": null,
   "metadata": {},
   "outputs": [],
   "source": []
  }
 ],
 "metadata": {
  "kernelspec": {
   "display_name": "Python 3",
   "language": "python",
   "name": "python3"
  },
  "language_info": {
   "codemirror_mode": {
    "name": "ipython",
    "version": 3
   },
   "file_extension": ".py",
   "mimetype": "text/x-python",
   "name": "python",
   "nbconvert_exporter": "python",
   "pygments_lexer": "ipython3",
   "version": "3.7.1"
  }
 },
 "nbformat": 4,
 "nbformat_minor": 2
}
